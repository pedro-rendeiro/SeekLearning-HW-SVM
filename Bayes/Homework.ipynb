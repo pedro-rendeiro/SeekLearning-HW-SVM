{
 "cells": [
  {
   "cell_type": "markdown",
   "id": "611779db",
   "metadata": {},
   "source": [
    "# Inteligência Computacional\n",
    "## Homework 8 Mais Aprendizado Bayesiano\n",
    "### Equipe: Seek Learning\n",
    " - Danilo Nicioka\n",
    " - Micael Cori\n",
    " - Michael Costa\n",
    " - Pedro Rendeiro"
   ]
  },
  {
   "cell_type": "markdown",
   "id": "7b973322",
   "metadata": {},
   "source": [
    "## 1) Discuta duas diferenças significativas entre a função p de massa de probabilidade (pmf) de uma variável aleatória discreta, e a função f de densidade de probabilidade (pdf) de uma variável aleatória contínua: a) como cada uma representa probabilidade, se diretamente ou através de alguma operação, b) as faixas de valores permitidos para p(x) e f(x) com valor x de entrada arbitrário e c) é possível que p(x) seja maior do que 1? É possível que f(x) seja maior do que 1?\n",
    "\n",
    "a) A função massa de probabilidade permite obter a probabilidade de um evento ocorrer dado um conjunto finito de possíveis eventos.\n",
    "A função densidade de probabilidade está relacionada a verossimilhança de uma variável tomar um dado valor em um intervalo e, para obter um valor de probabilidade, é preciso integrá-la nesse intervalo.\n",
    "\n",
    "b) A função p(x) tem valores na faixa $[0,1]$. A f(x) pode ter valores na faixa $[0,\\infty)$\n",
    "\n",
    "c) Não, pois p(x) calcula a probabilidade de um evento ocorrer. Sim, pois f(x) calcula a verossimilhança."
   ]
  },
  {
   "cell_type": "markdown",
   "id": "f5435d16",
   "metadata": {},
   "source": [
    "## "
   ]
  }
 ],
 "metadata": {
  "kernelspec": {
   "display_name": "Python 3 (ipykernel)",
   "language": "python",
   "name": "python3"
  },
  "language_info": {
   "codemirror_mode": {
    "name": "ipython",
    "version": 3
   },
   "file_extension": ".py",
   "mimetype": "text/x-python",
   "name": "python",
   "nbconvert_exporter": "python",
   "pygments_lexer": "ipython3",
   "version": "3.8.13"
  }
 },
 "nbformat": 4,
 "nbformat_minor": 5
}
